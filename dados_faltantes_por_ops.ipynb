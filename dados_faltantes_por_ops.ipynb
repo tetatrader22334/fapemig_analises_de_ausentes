{
  "nbformat": 4,
  "nbformat_minor": 0,
  "metadata": {
    "colab": {
      "provenance": []
    },
    "kernelspec": {
      "name": "python3",
      "display_name": "Python 3"
    },
    "language_info": {
      "name": "python"
    }
  },
  "cells": [
    {
      "cell_type": "code",
      "source": [
        "!pip install unidecode"
      ],
      "metadata": {
        "colab": {
          "base_uri": "https://localhost:8080/"
        },
        "id": "8hxNDda4c4Li",
        "outputId": "b00ad9d6-a9bf-40e9-9cb9-3ca435daaa52"
      },
      "execution_count": 4,
      "outputs": [
        {
          "output_type": "stream",
          "name": "stdout",
          "text": [
            "Collecting unidecode\n",
            "  Downloading Unidecode-1.4.0-py3-none-any.whl.metadata (13 kB)\n",
            "Downloading Unidecode-1.4.0-py3-none-any.whl (235 kB)\n",
            "\u001b[2K   \u001b[90m━━━━━━━━━━━━━━━━━━━━━━━━━━━━━━━━━━━━━━━━\u001b[0m \u001b[32m235.8/235.8 kB\u001b[0m \u001b[31m4.7 MB/s\u001b[0m eta \u001b[36m0:00:00\u001b[0m\n",
            "\u001b[?25hInstalling collected packages: unidecode\n",
            "Successfully installed unidecode-1.4.0\n"
          ]
        }
      ]
    },
    {
      "cell_type": "code",
      "execution_count": 11,
      "metadata": {
        "colab": {
          "base_uri": "https://localhost:8080/"
        },
        "id": "CRtxHUNSa74k",
        "outputId": "ca1afa44-ae34-4bcb-8b63-ce1ff527ef6d"
      },
      "outputs": [
        {
          "output_type": "stream",
          "name": "stdout",
          "text": [
            "OK: faltantes gerados em ./saidas_faltantes_2001_2008\n"
          ]
        }
      ],
      "source": [
        "# Faltantes por OPS — inclui também OPS sem ausências (perc_* = 0)\n",
        "# Requisitos: pandas, openpyxl\n",
        "import pandas as pd, numpy as np, os, re\n",
        "from typing import Optional, List\n",
        "\n",
        "# ---------------- PARÂMETROS ----------------\n",
        "ARQUIVO_DADOS = \"dados_2001_2008.xlsx\"\n",
        "ANOS = list(range(2001, 2009))\n",
        "PASTA_SAIDA = \"./saidas_faltantes_2001_2008\"\n",
        "os.makedirs(PASTA_SAIDA, exist_ok=True)\n",
        "\n",
        "# Faixas por posição no Excel\n",
        "FAIXA_CONTABEIS = (\"B\", \"AZ\")\n",
        "FAIXA_INDICADORES_INICIO = \"BA\"   # BA até o fim\n",
        "FAIXA_INDICADORES_MODELO = (\"BB\", \"CR\")\n",
        "\n",
        "# Listar só quem tem faltante?  -> False para incluir todos\n",
        "filtrar_somente_faltantes = False\n",
        "\n",
        "# --------------- HELPERS --------------------\n",
        "def excel_col_to_idx(col_str: str) -> int:\n",
        "    col_str = col_str.strip().upper()\n",
        "    idx = 0\n",
        "    for ch in col_str:\n",
        "        idx = idx * 26 + (ord(ch) - ord('A') + 1)\n",
        "    return idx - 1\n",
        "\n",
        "def normalize_cols(df: pd.DataFrame) -> pd.DataFrame:\n",
        "    mapping = {c: re.sub(r\"\\s+\", \" \", str(c)).strip().lower() for c in df.columns}\n",
        "    return df.rename(columns=mapping)\n",
        "\n",
        "def guess_ops_col(df_norm: pd.DataFrame) -> str:\n",
        "    candidatos = [\"ops\",\"id_ops\",\"codigo_ops\",\"cod_ops\",\"código ops\",\"codigo da ops\"]\n",
        "    for c in candidatos:\n",
        "        if c in df_norm.columns:\n",
        "            return c\n",
        "    return df_norm.columns[0]\n",
        "\n",
        "def cols_slice_by_letters(df: pd.DataFrame, ini: str, fim: Optional[str]=None) -> List[str]:\n",
        "    n = df.shape[1]\n",
        "    i0 = excel_col_to_idx(ini)\n",
        "    i1 = excel_col_to_idx(fim) if fim is not None else n - 1\n",
        "    i0 = max(0, i0); i1 = min(n - 1, i1)\n",
        "    if i0 > i1 or i0 >= n:\n",
        "        return []\n",
        "    return list(df.columns[i0:i1+1])\n",
        "\n",
        "def contar_faltantes(df_use: pd.DataFrame, col_ops: str) -> pd.DataFrame:\n",
        "    \"\"\"\n",
        "    Calcula contagens e percentuais de faltantes por linha (OPS) para:\n",
        "      - total (tudo menos OPS)\n",
        "      - contábeis (B:AZ)\n",
        "      - indicadores (BA:última)\n",
        "      - indicadores do modelo (BB:CR)\n",
        "    SEM FILTRAR linhas com zero faltantes (ou seja, inclui todas as OPS).\n",
        "    \"\"\"\n",
        "    if col_ops not in df_use.columns:\n",
        "        raise KeyError(f\"Coluna OPS '{col_ops}' não está no DataFrame recebido.\")\n",
        "\n",
        "    # Listas de colunas por faixa (posição Excel; df_use está NORMALIZADO e mantém a ordem)\n",
        "    all_cols      = [c for c in df_use.columns if c != col_ops]\n",
        "    cont_cols     = [c for c in cols_slice_by_letters(df_use, *FAIXA_CONTABEIS) if c != col_ops]\n",
        "    ind_cols      = [c for c in cols_slice_by_letters(df_use, FAIXA_INDICADORES_INICIO, None) if c != col_ops]\n",
        "    ind_mod_cols  = [c for c in cols_slice_by_letters(df_use, *FAIXA_INDICADORES_MODELO) if c != col_ops]\n",
        "\n",
        "    # Contagens de faltantes por linha (preenchem 0 quando lista vazia)\n",
        "    falt_total = df_use[all_cols].isna().sum(axis=1) if all_cols else pd.Series(0, index=df_use.index)\n",
        "    falt_cont  = df_use[cont_cols].isna().sum(axis=1) if cont_cols else pd.Series(0, index=df_use.index)\n",
        "    falt_ind   = df_use[ind_cols].isna().sum(axis=1) if ind_cols else pd.Series(0, index=df_use.index)\n",
        "    falt_ind_m = df_use[ind_mod_cols].isna().sum(axis=1) if ind_mod_cols else pd.Series(0, index=df_use.index)\n",
        "\n",
        "    # Quantidade de colunas por grupo (para %)\n",
        "    n_total, n_cont, n_ind, n_ind_m = len(all_cols), len(cont_cols), len(ind_cols), len(ind_mod_cols)\n",
        "\n",
        "    out = pd.DataFrame({\n",
        "        \"ops\": df_use[col_ops].astype(str).values,\n",
        "        \"falt_total\": falt_total.values,\n",
        "        \"falt_cont\":  falt_cont.values,\n",
        "        \"falt_ind\":   falt_ind.values,\n",
        "        \"falt_ind_modelo\": falt_ind_m.values,\n",
        "        \"cols_total\": n_total,\n",
        "        \"cols_cont\":  n_cont,\n",
        "        \"cols_ind\":   n_ind,\n",
        "        \"cols_ind_modelo\": n_ind_m,\n",
        "    })\n",
        "\n",
        "    # Percentuais (0 quando não há colunas na faixa)\n",
        "    out[\"perc_total\"]        = out[\"falt_total\"]        / n_total if n_total  > 0 else 0.0\n",
        "    out[\"perc_cont\"]         = out[\"falt_cont\"]         / n_cont  if n_cont   > 0 else 0.0\n",
        "    out[\"perc_ind\"]          = out[\"falt_ind\"]          / n_ind   if n_ind    > 0 else 0.0\n",
        "    out[\"perc_ind_modelo\"]   = out[\"falt_ind_modelo\"]   / n_ind_m if n_ind_m  > 0 else 0.0\n",
        "\n",
        "    # NÃO filtra zero-faltantes; apenas ordena para diagnóstico\n",
        "    out = out.sort_values([\"perc_total\",\"perc_cont\",\"perc_ind\"], ascending=[False, False, False]).reset_index(drop=True)\n",
        "    return out\n",
        "\n",
        "# --------------- EXECUÇÃO --------------------\n",
        "xl = pd.ExcelFile(ARQUIVO_DADOS)\n",
        "registros = []\n",
        "\n",
        "for ano in ANOS:\n",
        "    aba = str(ano)\n",
        "    if aba not in xl.sheet_names:\n",
        "        print(f\"[AVISO] Aba {aba} ausente.\"); continue\n",
        "\n",
        "    df_raw = xl.parse(aba, header=0)\n",
        "    if df_raw.empty:\n",
        "        print(f\"[AVISO] Aba {aba} vazia.\"); continue\n",
        "\n",
        "    # Usar df normalizado (nomes em minúsculas e estáveis)\n",
        "    df_norm = normalize_cols(df_raw.copy())\n",
        "    col_ops = guess_ops_col(df_norm)\n",
        "\n",
        "    out = contar_faltantes(df_norm, col_ops=col_ops)\n",
        "    out.insert(1, \"ano\", ano)\n",
        "\n",
        "    # Se quiser somente quem tem algum faltante, ligue o filtro abaixo:\n",
        "    if filtrar_somente_faltantes:\n",
        "        mask = (out[[\"falt_total\",\"falt_cont\",\"falt_ind\",\"falt_ind_modelo\"]].sum(axis=1) > 0)\n",
        "        out = out.loc[mask].reset_index(drop=True)\n",
        "\n",
        "    registros.append(out)\n",
        "    out.to_csv(os.path.join(PASTA_SAIDA, f\"faltantes_por_ops_{ano}.csv\"), index=False, encoding=\"utf-8\")\n",
        "\n",
        "# Consolidação\n",
        "if registros:\n",
        "    base = pd.concat(registros, ignore_index=True)\n",
        "    base.to_csv(os.path.join(PASTA_SAIDA, \"faltantes_por_ops_2001_2008.csv\"), index=False, encoding=\"utf-8\")\n",
        "\n",
        "    # Agregado por OPS (médias dos percentuais ao longo dos anos)\n",
        "    agg = (base.groupby(\"ops\", as_index=False)\n",
        "                .agg(anos_observados=(\"ano\",\"nunique\"),\n",
        "                     falt_total_medio=(\"perc_total\",\"mean\"),\n",
        "                     falt_cont_medio=(\"perc_cont\",\"mean\"),\n",
        "                     falt_ind_medio=(\"perc_ind\",\"mean\"),\n",
        "                     falt_ind_modelo_medio=(\"perc_ind_modelo\",\"mean\"))\n",
        "                .sort_values(\"falt_total_medio\", ascending=False))\n",
        "    agg.to_csv(os.path.join(PASTA_SAIDA, \"faltantes_agregado_por_ops.csv\"), index=False, encoding=\"utf-8\")\n",
        "\n",
        "print(\"OK: faltantes gerados em\", PASTA_SAIDA)\n"
      ]
    },
    {
      "cell_type": "code",
      "source": [],
      "metadata": {
        "id": "FVsWolSprJj1"
      },
      "execution_count": null,
      "outputs": []
    }
  ]
}